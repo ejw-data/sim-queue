{
 "cells": [
  {
   "cell_type": "markdown",
   "metadata": {},
   "source": [
    "# Chained Queueing Simulation  "
   ]
  },
  {
   "cell_type": "markdown",
   "metadata": {},
   "source": [
    "### Starting from Previous Example"
   ]
  },
  {
   "cell_type": "code",
   "execution_count": 1,
   "metadata": {},
   "outputs": [],
   "source": [
    "# Dependencies\n",
    "import numpy as np\n",
    "import matplotlib.pyplot as plt"
   ]
  },
  {
   "cell_type": "code",
   "execution_count": 2,
   "metadata": {},
   "outputs": [],
   "source": [
    "# R packages via python\n",
    "# Documentation - https://rpy2.github.io/doc/latest/html/index.html\n",
    "from rpy2.robjects import r, pandas2ri\n",
    "from rpy2.robjects.packages import importr\n",
    "from rpy2.robjects import FloatVector\n"
   ]
  },
  {
   "cell_type": "code",
   "execution_count": 3,
   "metadata": {},
   "outputs": [
    {
     "data": {
      "text/plain": [
       "rpy2.robjects.packages.Package as a <module 'queuecomputer'>"
      ]
     },
     "execution_count": 3,
     "metadata": {},
     "output_type": "execute_result"
    }
   ],
   "source": [
    "# Documentation - https://github.com/AnthonyEbert/queuecomputer\n",
    "pandas2ri.activate()\n",
    "importr('queuecomputer')"
   ]
  },
  {
   "cell_type": "code",
   "execution_count": 4,
   "metadata": {},
   "outputs": [],
   "source": [
    "# Constants\n",
    "lamdba = 1             # average number of arrivals per time period\n",
    "walkin_mean = 2        # average time interval between walk-ins in minutes\n",
    "walkin_sd = 0.5        # standard deviation of walk-ins in minutes\n",
    "service_time_mean = 3  # time in minutes to complete service and allow next object in queue\n",
    "service_time_sd = 0.5  # standard deviation of service time\n",
    "number_of_people = 25  # simulation size"
   ]
  },
  {
   "cell_type": "code",
   "execution_count": 5,
   "metadata": {},
   "outputs": [],
   "source": [
    "# calc arrival time and service time interval\n",
    "cumulative_time = np.random.normal(loc=walkin_mean, scale=walkin_sd, size=number_of_people).cumsum()\n",
    "cumulative_time = np.insert(cumulative_time, 0,0)\n",
    "service_time = np.random.normal(loc=service_time_mean, scale=service_time_sd, size=number_of_people)\n",
    "service_time = np.insert(service_time, 0,0)"
   ]
  },
  {
   "cell_type": "code",
   "execution_count": 6,
   "metadata": {},
   "outputs": [],
   "source": [
    "arrival = FloatVector(cumulative_time)\n",
    "service = FloatVector(service_time)"
   ]
  },
  {
   "cell_type": "code",
   "execution_count": 7,
   "metadata": {},
   "outputs": [],
   "source": [
    "## Outputs of simulation (see below) \n",
    "##  $ departures     : num array of size n\n",
    "##  $ server         : int array of size n\n",
    "##  $ departures_df  : tibble [n x 6] (S3: tbl_df/tbl/data.frame)\n",
    "##  $ queuelength_df :'data.frame': n obs. of  2 variables:\n",
    "##  $ systemlength_df:'data.frame': n obs. of  2 variables:\n",
    "##  $ servers_input  : num 1\n",
    "##  $ state          : num 101\n",
    "##  - attr(*, \"class\")= chr [1:2] \"queue_list\" \"list\"\n",
    "simulation = r['queue_step'](arrivals=arrival, service=service,servers=1)"
   ]
  },
  {
   "cell_type": "code",
   "execution_count": 8,
   "metadata": {},
   "outputs": [
    {
     "name": "stdout",
     "output_type": "stream",
     "text": [
      "Departures:  [ 0.          4.86805229  8.54982786 12.0809747  15.49128906 18.68872351\n",
      " 22.32277124 25.42093965 28.74059938 31.66777774 34.22552847 37.24241063\n",
      " 40.14230176 43.45960379 47.56789407 50.08581216 52.90230853 56.02568359\n",
      " 58.39818978 61.8307628  64.67946699 66.62959531 69.12447187 72.89977812\n",
      " 76.62181709 80.19582   ]\n",
      "Servers:   [1] 1 1 1 1 1 1 1 1 1 1 1 1 1 1 1 1 1 1 1 1 1 1 1 1 1 1\n",
      "\n",
      "Summary Dataframe:  # A tibble: 26 x 6\n",
      "   arrivals service departures waiting system_time server\n",
      "      <dbl>   <dbl>      <dbl>   <dbl>       <dbl>  <int>\n",
      " 1     0       0          0     0             0         1\n",
      " 2     1.98    2.89       4.87  0             2.89      1\n",
      " 3     4.82    3.68       8.55  0.0530        3.73      1\n",
      " 4     7.22    3.53      12.1   1.33          4.86      1\n",
      " 5     9.05    3.41      15.5   3.03          6.44      1\n",
      " 6    10.0     3.20      18.7   5.49          8.68      1\n",
      " 7    12.4     3.63      22.3   6.33          9.96      1\n",
      " 8    14.4     3.10      25.4   7.94         11.0       1\n",
      " 9    16.1     3.32      28.7   9.33         12.6       1\n",
      "10    17.9     2.93      31.7  10.8          13.7       1\n",
      "# ... with 16 more rows\n",
      "\n"
     ]
    }
   ],
   "source": [
    "print('Departures: ', simulation[0])\n",
    "print('Servers: ', simulation[1])\n",
    "print('Summary Dataframe: ', simulation[2])\n",
    "# print('Wait List: ', simulation[3])"
   ]
  },
  {
   "cell_type": "code",
   "execution_count": 9,
   "metadata": {},
   "outputs": [
    {
     "name": "stdout",
     "output_type": "stream",
     "text": [
      "Average Wait Time:  14.184441476571614  min\n",
      "Maximum Queue Size:  10\n"
     ]
    },
    {
     "data": {
      "image/png": "[encoded data removed]",
      "text/plain": [
       "<Figure size 640x480 with 1 Axes>"
      ]
     },
     "metadata": {},
     "output_type": "display_data"
    }
   ],
   "source": [
    "df_events = simulation[2]\n",
    "print('Average Wait Time: ', df_events.rx2('waiting').mean(), ' min')\n",
    "\n",
    "df_queue = simulation[3]\n",
    "print('Maximum Queue Size: ', max(df_queue.rx2('queuelength')))\n",
    "\n",
    "plt.hist(df_events.rx2('waiting'));"
   ]
  },
  {
   "cell_type": "markdown",
   "metadata": {},
   "source": [
    "### Chaining"
   ]
  },
  {
   "cell_type": "code",
   "execution_count": null,
   "metadata": {},
   "outputs": [],
   "source": [
    "# Instead of just one queue, this will show how to handle a sequence of queues\n",
    "# The departure times from the first queue will be split into two additional queues (groups)\n",
    "# The splitting is typically determined via experience (real data)\n",
    "# The groups will represent the proportion of people going to that process.\n",
    "# A common example is a registration occuring and then having people go to two separate lines like a DMV has registration updates and driving tests"
   ]
  },
  {
   "cell_type": "code",
   "execution_count": 17,
   "metadata": {},
   "outputs": [],
   "source": [
    "# departures from one queque will fill the next queque\n",
    "departures = df_events.rx2('departures')\n",
    "\n",
    "# assign each record a random percent\n",
    "random_assignment = np.random.random(len(departures))\n",
    "# Split 40% to this queue\n",
    "queue2 = FloatVector(departures[random_assignment > 0.6])  \n",
    "# The remaining split (60%) is assigned to this queue\n",
    "queue3 = FloatVector(departures[random_assignment <= 0.6])\n",
    "\n"
   ]
  },
  {
   "cell_type": "code",
   "execution_count": 18,
   "metadata": {},
   "outputs": [
    {
     "name": "stdout",
     "output_type": "stream",
     "text": [
      "Average Wait Time:  2.322917029380018  min\n",
      "Maximum Queue Size:  2\n"
     ]
    },
    {
     "data": {
      "image/png": "[encoded data removed]",
      "text/plain": [
       "<Figure size 640x480 with 1 Axes>"
      ]
     },
     "metadata": {},
     "output_type": "display_data"
    }
   ],
   "source": [
    "service_time_mean = 5\n",
    "service_time_sd = 0.5\n",
    "number_of_people = len(queue2)\n",
    "\n",
    "service_time_q2 = FloatVector(np.random.normal(loc=service_time_mean, scale=service_time_sd, size=number_of_people))\n",
    "simulation2 = r['queue_step'](arrivals=queue2, service=service_time_q2, servers=1)\n",
    "\n",
    "df_events = simulation2[2]\n",
    "print('Average Wait Time: ', df_events.rx2('waiting').mean(), ' min')\n",
    "\n",
    "df_queue = simulation2[3]\n",
    "print('Maximum Queue Size: ', max(df_queue.rx2('queuelength')))\n",
    "\n",
    "plt.hist(df_events.rx2('waiting'));"
   ]
  },
  {
   "cell_type": "code",
   "execution_count": 19,
   "metadata": {},
   "outputs": [
    {
     "name": "stdout",
     "output_type": "stream",
     "text": [
      "Average Wait Time:  17.12711971396167  min\n",
      "Maximum Queue Size:  5\n"
     ]
    },
    {
     "data": {
      "image/png": "[encoded data removed]",
      "text/plain": [
       "<Figure size 640x480 with 1 Axes>"
      ]
     },
     "metadata": {},
     "output_type": "display_data"
    }
   ],
   "source": [
    "service_time_mean = 10\n",
    "service_time_sd = 1\n",
    "number_of_people = len(queue3)\n",
    "\n",
    "service_time_q3 = FloatVector(np.random.normal(loc=service_time_mean, scale=service_time_sd, size=number_of_people))\n",
    "simulation3 = r['queue_step'](arrivals=queue3, service=service_time_q3, servers=1)\n",
    "\n",
    "df_events = simulation3[2]\n",
    "print('Average Wait Time: ', df_events.rx2('waiting').mean(), ' min')\n",
    "\n",
    "df_queue = simulation3[3]\n",
    "print('Maximum Queue Size: ', max(df_queue.rx2('queuelength')))\n",
    "\n",
    "plt.hist(df_events.rx2('waiting'));"
   ]
  },
  {
   "cell_type": "markdown",
   "metadata": {},
   "source": [
    "### Improvements\n",
    "* future example should include how to optimize for the number of servers\n",
    "* an object oriented method would allow to track individuals through the entire process easily but it could be done by tracking with arrays.  \n",
    "* need to develop a good visualization"
   ]
  }
 ],
 "metadata": {
  "kernelspec": {
   "display_name": "python310",
   "language": "python",
   "name": "python3"
  },
  "language_info": {
   "codemirror_mode": {
    "name": "ipython",
    "version": 3
   },
   "file_extension": ".py",
   "mimetype": "text/x-python",
   "name": "python",
   "nbconvert_exporter": "python",
   "pygments_lexer": "ipython3",
   "version": "3.10.11"
  },
  "orig_nbformat": 4
 },
 "nbformat": 4,
 "nbformat_minor": 2
}
