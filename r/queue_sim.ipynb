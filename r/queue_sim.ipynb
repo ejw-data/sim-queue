{
 "cells": [
  {
   "cell_type": "markdown",
   "metadata": {},
   "source": [
    "# Queueing Simulation"
   ]
  },
  {
   "cell_type": "code",
   "execution_count": 1,
   "metadata": {},
   "outputs": [],
   "source": [
    "# Dependencies\n",
    "import numpy as np\n",
    "import matplotlib.pyplot as plt"
   ]
  },
  {
   "cell_type": "code",
   "execution_count": 2,
   "metadata": {},
   "outputs": [],
   "source": [
    "# R packages via python\n",
    "# Documentation - https://rpy2.github.io/doc/latest/html/index.html\n",
    "from rpy2.robjects import r, pandas2ri\n",
    "from rpy2.robjects.packages import importr\n",
    "from rpy2.robjects import FloatVector\n"
   ]
  },
  {
   "cell_type": "code",
   "execution_count": 3,
   "metadata": {},
   "outputs": [
    {
     "data": {
      "text/plain": [
       "rpy2.robjects.packages.Package as a <module 'queuecomputer'>"
      ]
     },
     "execution_count": 3,
     "metadata": {},
     "output_type": "execute_result"
    }
   ],
   "source": [
    "# Documentation - https://github.com/AnthonyEbert/queuecomputer\n",
    "pandas2ri.activate()\n",
    "importr('queuecomputer')"
   ]
  },
  {
   "cell_type": "code",
   "execution_count": 4,
   "metadata": {},
   "outputs": [],
   "source": [
    "# Constants\n",
    "lamdba = 1             # average number of arrivals per time period\n",
    "walkin_mean = 2        # average time interval between walk-ins in minutes\n",
    "walkin_sd = 0.5        # standard deviation of walk-ins in minutes\n",
    "service_time_mean = 3  # time in minutes to complete service and allow next object in queue\n",
    "service_time_sd = 0.5  # standard deviation of service time\n",
    "number_of_people = 25  # simulation size"
   ]
  },
  {
   "cell_type": "code",
   "execution_count": 5,
   "metadata": {},
   "outputs": [],
   "source": [
    "# calc arrival time and service time interval\n",
    "cumulative_time = np.random.normal(loc=walkin_mean, scale=walkin_sd, size=number_of_people).cumsum()\n",
    "cumulative_time = np.insert(cumulative_time, 0,0)\n",
    "service_time = np.random.normal(loc=service_time_mean, scale=service_time_sd, size=number_of_people)\n",
    "service_time = np.insert(service_time, 0,0)"
   ]
  },
  {
   "cell_type": "code",
   "execution_count": 6,
   "metadata": {},
   "outputs": [],
   "source": [
    "arrival = FloatVector(cumulative_time)\n",
    "service = FloatVector(service_time)"
   ]
  },
  {
   "cell_type": "code",
   "execution_count": 7,
   "metadata": {},
   "outputs": [],
   "source": [
    "## Outputs of simulation (see below) \n",
    "##  $ departures     : num array of size n\n",
    "##  $ server         : int array of size n\n",
    "##  $ departures_df  : tibble [n x 6] (S3: tbl_df/tbl/data.frame)\n",
    "##  $ queuelength_df :'data.frame': n obs. of  2 variables:\n",
    "##  $ systemlength_df:'data.frame': n obs. of  2 variables:\n",
    "##  $ servers_input  : num 1\n",
    "##  $ state          : num 101\n",
    "##  - attr(*, \"class\")= chr [1:2] \"queue_list\" \"list\"\n",
    "simulation = r['queue_step'](arrivals=arrival, service=service,servers=1)"
   ]
  },
  {
   "cell_type": "code",
   "execution_count": 8,
   "metadata": {},
   "outputs": [
    {
     "name": "stdout",
     "output_type": "stream",
     "text": [
      "Departures:  [ 0.          5.70958913  8.18079392 11.06112412 13.91817469 17.23054904\n",
      " 20.3878493  22.71807722 25.3888609  28.69164257 32.47185062 35.97113642\n",
      " 38.83858443 42.50197736 45.42716542 48.14712569 50.75313492 53.31547555\n",
      " 56.0981613  59.39835013 62.94987606 65.46701134 68.50647574 71.5284377\n",
      " 75.19120481 78.81108884]\n",
      "Servers:   [1] 1 1 1 1 1 1 1 1 1 1 1 1 1 1 1 1 1 1 1 1 1 1 1 1 1 1\n",
      "\n",
      "Summary Dataframe:  # A tibble: 26 x 6\n",
      "   arrivals service departures waiting system_time server\n",
      "      <dbl>   <dbl>      <dbl>   <dbl>       <dbl>  <int>\n",
      " 1     0       0          0       0           0         1\n",
      " 2     2.22    3.49       5.71    0           3.49      1\n",
      " 3     4.04    2.47       8.18    1.67        4.14      1\n",
      " 4     6.55    2.88      11.1     1.64        4.52      1\n",
      " 5     9.70    2.86      13.9     1.36        4.22      1\n",
      " 6    11.2     3.31      17.2     2.68        6.00      1\n",
      " 7    13.6     3.16      20.4     3.61        6.77      1\n",
      " 8    15.4     2.33      22.7     4.95        7.28      1\n",
      " 9    17.1     2.67      25.4     5.66        8.33      1\n",
      "10    18.6     3.30      28.7     6.81       10.1       1\n",
      "# ... with 16 more rows\n",
      "\n"
     ]
    }
   ],
   "source": [
    "print('Departures: ', simulation[0])\n",
    "print('Servers: ', simulation[1])\n",
    "print('Summary Dataframe: ', simulation[2])\n",
    "# print('Wait List: ', simulation[3])"
   ]
  },
  {
   "cell_type": "code",
   "execution_count": 9,
   "metadata": {},
   "outputs": [
    {
     "name": "stdout",
     "output_type": "stream",
     "text": [
      "Average Wait Time:  12.849147485843742  min\n",
      "Maximum Queue Size:  10\n"
     ]
    },
    {
     "data": {
      "image/png": "[encoded data removed]",
      "text/plain": [
       "<Figure size 640x480 with 1 Axes>"
      ]
     },
     "metadata": {},
     "output_type": "display_data"
    }
   ],
   "source": [
    "df_events = simulation[2]\n",
    "print('Average Wait Time: ', df_events.rx2('waiting').mean(), ' min')\n",
    "\n",
    "df_queue = simulation[3]\n",
    "print('Maximum Queue Size: ', max(df_queue.rx2('queuelength')))\n",
    "\n",
    "plt.hist(df_events.rx2('waiting'));"
   ]
  }
 ],
 "metadata": {
  "kernelspec": {
   "display_name": "python310",
   "language": "python",
   "name": "python3"
  },
  "language_info": {
   "codemirror_mode": {
    "name": "ipython",
    "version": 3
   },
   "file_extension": ".py",
   "mimetype": "text/x-python",
   "name": "python",
   "nbconvert_exporter": "python",
   "pygments_lexer": "ipython3",
   "version": "3.10.11"
  },
  "orig_nbformat": 4
 },
 "nbformat": 4,
 "nbformat_minor": 2
}
