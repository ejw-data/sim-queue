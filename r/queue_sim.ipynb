{
 "cells": [
  {
   "cell_type": "markdown",
   "metadata": {},
   "source": [
    "# Queueing Simulation"
   ]
  },
  {
   "cell_type": "code",
   "execution_count": 1,
   "metadata": {},
   "outputs": [],
   "source": [
    "# Dependencies\n",
    "import numpy as np\n",
    "import matplotlib.pyplot as plt"
   ]
  },
  {
   "cell_type": "code",
   "execution_count": 2,
   "metadata": {},
   "outputs": [],
   "source": [
    "# R packages via python\n",
    "from rpy2.robjects import r, pandas2ri\n",
    "from rpy2.robjects.packages import importr\n",
    "from rpy2.robjects import FloatVector\n"
   ]
  },
  {
   "cell_type": "code",
   "execution_count": 3,
   "metadata": {},
   "outputs": [
    {
     "data": {
      "text/plain": [
       "rpy2.robjects.packages.Package as a <module 'queuecomputer'>"
      ]
     },
     "execution_count": 3,
     "metadata": {},
     "output_type": "execute_result"
    }
   ],
   "source": [
    "pandas2ri.activate()\n",
    "importr('queuecomputer')"
   ]
  },
  {
   "cell_type": "code",
   "execution_count": 4,
   "metadata": {},
   "outputs": [],
   "source": [
    "# Constants\n",
    "lamdba = 1             # average number of arrivals per time period\n",
    "walkin_mean = 2        # average time interval between walk-ins in minutes\n",
    "walkin_sd = 0.5        # standard deviation of walk-ins in minutes\n",
    "service_time_mean = 3  # time in minutes to complete service and allow next object in queue\n",
    "service_time_sd = 0.5  # standard deviation of service time"
   ]
  },
  {
   "cell_type": "code",
   "execution_count": 5,
   "metadata": {},
   "outputs": [],
   "source": [
    "# Model Parameters\n",
    "number_of_people = 25\n"
   ]
  },
  {
   "cell_type": "code",
   "execution_count": 6,
   "metadata": {},
   "outputs": [],
   "source": [
    "# calc arrival time and service time interval\n",
    "cumulative_time = np.random.normal(loc=walkin_mean, scale=walkin_sd, size=number_of_people).cumsum()\n",
    "# cumulative_time = np.insert(cumulative_time, 0,0)\n",
    "service_time = np.random.normal(loc=service_time_mean, scale=service_time_sd, size=number_of_people)\n",
    "# service_time = np.insert(service_time, 0,0)"
   ]
  },
  {
   "cell_type": "code",
   "execution_count": 22,
   "metadata": {},
   "outputs": [],
   "source": [
    "# cumulative_time = np.random.exponential(1,400).cumsum()\n",
    "# service_time = np.random.normal(1,0.2, 400)"
   ]
  },
  {
   "cell_type": "code",
   "execution_count": 7,
   "metadata": {},
   "outputs": [],
   "source": [
    "arrival = FloatVector(cumulative_time)\n",
    "service = FloatVector(service_time)"
   ]
  },
  {
   "cell_type": "code",
   "execution_count": 8,
   "metadata": {},
   "outputs": [],
   "source": [
    "simulation = r['queue_step'](arrivals=arrival, service=service,servers=1)"
   ]
  },
  {
   "cell_type": "code",
   "execution_count": 25,
   "metadata": {},
   "outputs": [],
   "source": [
    "## List of 7 \n",
    "##  $ departures     : num [1:100] 2.45 2.93 3.7 5.4 7.07 ...\n",
    "##  $ server         : int [1:100] 1 1 1 1 1 1 1 1 1 1 ...\n",
    "##  $ departures_df  : tibble [100 x 6] (S3: tbl_df/tbl/data.frame)\n",
    "##  $ queuelength_df :'data.frame': 201 obs. of  2 variables:\n",
    "##  $ systemlength_df:'data.frame': 201 obs. of  2 variables:\n",
    "##  $ servers_input  : num 1\n",
    "##  $ state          : num 101\n",
    "##  - attr(*, \"class\")= chr [1:2] \"queue_list\" \"list\""
   ]
  },
  {
   "cell_type": "code",
   "execution_count": 9,
   "metadata": {},
   "outputs": [
    {
     "name": "stdout",
     "output_type": "stream",
     "text": [
      "[ 4.1534689   7.2442908  10.62736786 14.14399946 17.2376767  20.18949443\n",
      " 23.2268702  25.52490583 28.02844522 31.16287971 33.69264001 36.71786918\n",
      " 39.42888967 42.3134775  45.96839247 48.54311437 51.5221439  54.70701381\n",
      " 57.66354151 61.21050105 64.69786804 67.17764969 70.31248864 73.25412676\n",
      " 76.83553676]\n"
     ]
    }
   ],
   "source": [
    "print(simulation[0])"
   ]
  },
  {
   "cell_type": "code",
   "execution_count": 10,
   "metadata": {},
   "outputs": [
    {
     "name": "stdout",
     "output_type": "stream",
     "text": [
      " [1] 1 1 1 1 1 1 1 1 1 1 1 1 1 1 1 1 1 1 1 1 1 1 1 1 1\n",
      "\n"
     ]
    }
   ],
   "source": [
    "print(simulation[1])"
   ]
  },
  {
   "cell_type": "code",
   "execution_count": 11,
   "metadata": {},
   "outputs": [
    {
     "name": "stdout",
     "output_type": "stream",
     "text": [
      "# A tibble: 25 x 6\n",
      "   arrivals service departures  waiting system_time server\n",
      "      <dbl>   <dbl>      <dbl>    <dbl>       <dbl>  <int>\n",
      " 1     1.41    2.74       4.15 4.44e-16        2.74      1\n",
      " 2     3.86    3.09       7.24 2.89e- 1        3.38      1\n",
      " 3     6.80    3.38      10.6  4.49e- 1        3.83      1\n",
      " 4     9.20    3.52      14.1  1.43e+ 0        4.94      1\n",
      " 5    11.3     3.09      17.2  2.86e+ 0        5.95      1\n",
      " 6    13.7     2.95      20.2  3.55e+ 0        6.50      1\n",
      " 7    16.2     3.04      23.2  3.95e+ 0        6.98      1\n",
      " 8    17.8     2.30      25.5  5.41e+ 0        7.71      1\n",
      " 9    20.4     2.50      28.0  5.11e+ 0        7.61      1\n",
      "10    22.6     3.13      31.2  5.39e+ 0        8.52      1\n",
      "# ... with 15 more rows\n",
      "\n"
     ]
    }
   ],
   "source": [
    "print(simulation[2])"
   ]
  },
  {
   "cell_type": "code",
   "execution_count": 15,
   "metadata": {},
   "outputs": [
    {
     "name": "stdout",
     "output_type": "stream",
     "text": [
      "       times queuelength\n",
      "1   0.000000           0\n",
      "2   1.410679           1\n",
      "3   1.410679           0\n",
      "4   3.864763           1\n",
      "5   4.153469           0\n",
      "6   6.795529           1\n",
      "7   7.244291           0\n",
      "8   9.200562           1\n",
      "9  10.627368           0\n",
      "10 11.283835           1\n",
      "11 13.688997           2\n",
      "12 14.143999           1\n",
      "13 16.242993           2\n",
      "14 17.237677           1\n",
      "15 17.818087           2\n",
      "16 20.189494           1\n",
      "17 20.417398           2\n",
      "18 22.639483           3\n",
      "19 23.226870           2\n",
      "20 25.441872           3\n",
      "21 25.524906           2\n",
      "22 27.135080           3\n",
      "23 28.028445           2\n",
      "24 29.013158           3\n",
      "25 31.026922           4\n",
      "26 31.162880           3\n",
      "27 33.692640           2\n",
      "28 33.726752           3\n",
      "29 35.234766           4\n",
      "30 36.717869           3\n",
      "31 37.388891           4\n",
      "32 39.207393           5\n",
      "33 39.428890           4\n",
      "34 41.252310           5\n",
      "35 42.313478           4\n",
      "36 42.798143           5\n",
      "37 44.285450           6\n",
      "38 45.968392           5\n",
      "39 46.448252           6\n",
      "40 48.503006           7\n",
      "41 48.543114           6\n",
      "42 51.030128           7\n",
      "43 51.522144           6\n",
      "44 54.220457           7\n",
      "45 54.707014           6\n",
      "46 57.663542           5\n",
      "47 61.210501           4\n",
      "48 64.697868           3\n",
      "49 67.177650           2\n",
      "50 70.312489           1\n",
      "51 73.254127           0\n",
      "\n"
     ]
    }
   ],
   "source": [
    "print(simulation[3])"
   ]
  }
 ],
 "metadata": {
  "kernelspec": {
   "display_name": "python310",
   "language": "python",
   "name": "python3"
  },
  "language_info": {
   "codemirror_mode": {
    "name": "ipython",
    "version": 3
   },
   "file_extension": ".py",
   "mimetype": "text/x-python",
   "name": "python",
   "nbconvert_exporter": "python",
   "pygments_lexer": "ipython3",
   "version": "3.10.11"
  },
  "orig_nbformat": 4
 },
 "nbformat": 4,
 "nbformat_minor": 2
}
